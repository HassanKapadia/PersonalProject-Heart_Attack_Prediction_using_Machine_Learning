{
  "nbformat": 4,
  "nbformat_minor": 0,
  "metadata": {
    "colab": {
      "name": "HeartAttackPrediction.ipynb",
      "provenance": [],
      "collapsed_sections": [],
      "toc_visible": true
    },
    "kernelspec": {
      "name": "python3",
      "display_name": "Python 3"
    }
  },
  "cells": [
    {
      "cell_type": "markdown",
      "metadata": {
        "id": "KksnVLLSPPDO"
      },
      "source": [
        "# ***Heart Attack Prediction***\n",
        "1.   Predicting if a patient would have heart attack\n",
        "2.   DataSet Link: https://www.kaggle.com/ronitf/heart-disease-uci\n",
        "\n",
        "\n"
      ]
    },
    {
      "cell_type": "markdown",
      "metadata": {
        "id": "bETtsk4KPmtD"
      },
      "source": [
        "# **Importing Libraries**"
      ]
    },
    {
      "cell_type": "code",
      "metadata": {
        "id": "DogA7C1EPrts"
      },
      "source": [
        "import pandas as pd\n",
        "import numpy as np\n",
        "from sklearn.model_selection import train_test_split\n",
        "from sklearn import svm\n",
        "from sklearn.metrics import classification_report,accuracy_score\n",
        "import matplotlib.pyplot as plt"
      ],
      "execution_count": null,
      "outputs": []
    },
    {
      "cell_type": "markdown",
      "metadata": {
        "id": "lONFdY0fQGHs"
      },
      "source": [
        "# **Loading Data**\n",
        "1.   0 indicates Yes\n",
        "2.   1 indicates No\n",
        "\n"
      ]
    },
    {
      "cell_type": "code",
      "metadata": {
        "colab": {
          "base_uri": "https://localhost:8080/",
          "height": 419
        },
        "id": "r0LPBPOGQN1X",
        "outputId": "df051afd-263f-405f-dfbb-c0572dd02caf"
      },
      "source": [
        "cell_df=pd.read_csv('/content/heart.csv')\n",
        "cell_df"
      ],
      "execution_count": null,
      "outputs": [
        {
          "output_type": "execute_result",
          "data": {
            "text/html": [
              "<div>\n",
              "<style scoped>\n",
              "    .dataframe tbody tr th:only-of-type {\n",
              "        vertical-align: middle;\n",
              "    }\n",
              "\n",
              "    .dataframe tbody tr th {\n",
              "        vertical-align: top;\n",
              "    }\n",
              "\n",
              "    .dataframe thead th {\n",
              "        text-align: right;\n",
              "    }\n",
              "</style>\n",
              "<table border=\"1\" class=\"dataframe\">\n",
              "  <thead>\n",
              "    <tr style=\"text-align: right;\">\n",
              "      <th></th>\n",
              "      <th>age</th>\n",
              "      <th>sex</th>\n",
              "      <th>cp</th>\n",
              "      <th>trestbps</th>\n",
              "      <th>chol</th>\n",
              "      <th>fbs</th>\n",
              "      <th>restecg</th>\n",
              "      <th>thalach</th>\n",
              "      <th>exang</th>\n",
              "      <th>oldpeak</th>\n",
              "      <th>slope</th>\n",
              "      <th>ca</th>\n",
              "      <th>thal</th>\n",
              "      <th>target</th>\n",
              "    </tr>\n",
              "  </thead>\n",
              "  <tbody>\n",
              "    <tr>\n",
              "      <th>0</th>\n",
              "      <td>63</td>\n",
              "      <td>1</td>\n",
              "      <td>3</td>\n",
              "      <td>145</td>\n",
              "      <td>233</td>\n",
              "      <td>1</td>\n",
              "      <td>0</td>\n",
              "      <td>150</td>\n",
              "      <td>0</td>\n",
              "      <td>2.3</td>\n",
              "      <td>0</td>\n",
              "      <td>0</td>\n",
              "      <td>1</td>\n",
              "      <td>1</td>\n",
              "    </tr>\n",
              "    <tr>\n",
              "      <th>1</th>\n",
              "      <td>37</td>\n",
              "      <td>1</td>\n",
              "      <td>2</td>\n",
              "      <td>130</td>\n",
              "      <td>250</td>\n",
              "      <td>0</td>\n",
              "      <td>1</td>\n",
              "      <td>187</td>\n",
              "      <td>0</td>\n",
              "      <td>3.5</td>\n",
              "      <td>0</td>\n",
              "      <td>0</td>\n",
              "      <td>2</td>\n",
              "      <td>1</td>\n",
              "    </tr>\n",
              "    <tr>\n",
              "      <th>2</th>\n",
              "      <td>41</td>\n",
              "      <td>0</td>\n",
              "      <td>1</td>\n",
              "      <td>130</td>\n",
              "      <td>204</td>\n",
              "      <td>0</td>\n",
              "      <td>0</td>\n",
              "      <td>172</td>\n",
              "      <td>0</td>\n",
              "      <td>1.4</td>\n",
              "      <td>2</td>\n",
              "      <td>0</td>\n",
              "      <td>2</td>\n",
              "      <td>1</td>\n",
              "    </tr>\n",
              "    <tr>\n",
              "      <th>3</th>\n",
              "      <td>56</td>\n",
              "      <td>1</td>\n",
              "      <td>1</td>\n",
              "      <td>120</td>\n",
              "      <td>236</td>\n",
              "      <td>0</td>\n",
              "      <td>1</td>\n",
              "      <td>178</td>\n",
              "      <td>0</td>\n",
              "      <td>0.8</td>\n",
              "      <td>2</td>\n",
              "      <td>0</td>\n",
              "      <td>2</td>\n",
              "      <td>1</td>\n",
              "    </tr>\n",
              "    <tr>\n",
              "      <th>4</th>\n",
              "      <td>57</td>\n",
              "      <td>0</td>\n",
              "      <td>0</td>\n",
              "      <td>120</td>\n",
              "      <td>354</td>\n",
              "      <td>0</td>\n",
              "      <td>1</td>\n",
              "      <td>163</td>\n",
              "      <td>1</td>\n",
              "      <td>0.6</td>\n",
              "      <td>2</td>\n",
              "      <td>0</td>\n",
              "      <td>2</td>\n",
              "      <td>1</td>\n",
              "    </tr>\n",
              "    <tr>\n",
              "      <th>...</th>\n",
              "      <td>...</td>\n",
              "      <td>...</td>\n",
              "      <td>...</td>\n",
              "      <td>...</td>\n",
              "      <td>...</td>\n",
              "      <td>...</td>\n",
              "      <td>...</td>\n",
              "      <td>...</td>\n",
              "      <td>...</td>\n",
              "      <td>...</td>\n",
              "      <td>...</td>\n",
              "      <td>...</td>\n",
              "      <td>...</td>\n",
              "      <td>...</td>\n",
              "    </tr>\n",
              "    <tr>\n",
              "      <th>298</th>\n",
              "      <td>57</td>\n",
              "      <td>0</td>\n",
              "      <td>0</td>\n",
              "      <td>140</td>\n",
              "      <td>241</td>\n",
              "      <td>0</td>\n",
              "      <td>1</td>\n",
              "      <td>123</td>\n",
              "      <td>1</td>\n",
              "      <td>0.2</td>\n",
              "      <td>1</td>\n",
              "      <td>0</td>\n",
              "      <td>3</td>\n",
              "      <td>0</td>\n",
              "    </tr>\n",
              "    <tr>\n",
              "      <th>299</th>\n",
              "      <td>45</td>\n",
              "      <td>1</td>\n",
              "      <td>3</td>\n",
              "      <td>110</td>\n",
              "      <td>264</td>\n",
              "      <td>0</td>\n",
              "      <td>1</td>\n",
              "      <td>132</td>\n",
              "      <td>0</td>\n",
              "      <td>1.2</td>\n",
              "      <td>1</td>\n",
              "      <td>0</td>\n",
              "      <td>3</td>\n",
              "      <td>0</td>\n",
              "    </tr>\n",
              "    <tr>\n",
              "      <th>300</th>\n",
              "      <td>68</td>\n",
              "      <td>1</td>\n",
              "      <td>0</td>\n",
              "      <td>144</td>\n",
              "      <td>193</td>\n",
              "      <td>1</td>\n",
              "      <td>1</td>\n",
              "      <td>141</td>\n",
              "      <td>0</td>\n",
              "      <td>3.4</td>\n",
              "      <td>1</td>\n",
              "      <td>2</td>\n",
              "      <td>3</td>\n",
              "      <td>0</td>\n",
              "    </tr>\n",
              "    <tr>\n",
              "      <th>301</th>\n",
              "      <td>57</td>\n",
              "      <td>1</td>\n",
              "      <td>0</td>\n",
              "      <td>130</td>\n",
              "      <td>131</td>\n",
              "      <td>0</td>\n",
              "      <td>1</td>\n",
              "      <td>115</td>\n",
              "      <td>1</td>\n",
              "      <td>1.2</td>\n",
              "      <td>1</td>\n",
              "      <td>1</td>\n",
              "      <td>3</td>\n",
              "      <td>0</td>\n",
              "    </tr>\n",
              "    <tr>\n",
              "      <th>302</th>\n",
              "      <td>57</td>\n",
              "      <td>0</td>\n",
              "      <td>1</td>\n",
              "      <td>130</td>\n",
              "      <td>236</td>\n",
              "      <td>0</td>\n",
              "      <td>0</td>\n",
              "      <td>174</td>\n",
              "      <td>0</td>\n",
              "      <td>0.0</td>\n",
              "      <td>1</td>\n",
              "      <td>1</td>\n",
              "      <td>2</td>\n",
              "      <td>0</td>\n",
              "    </tr>\n",
              "  </tbody>\n",
              "</table>\n",
              "<p>303 rows × 14 columns</p>\n",
              "</div>"
            ],
            "text/plain": [
              "     age  sex  cp  trestbps  chol  fbs  ...  exang  oldpeak  slope  ca  thal  target\n",
              "0     63    1   3       145   233    1  ...      0      2.3      0   0     1       1\n",
              "1     37    1   2       130   250    0  ...      0      3.5      0   0     2       1\n",
              "2     41    0   1       130   204    0  ...      0      1.4      2   0     2       1\n",
              "3     56    1   1       120   236    0  ...      0      0.8      2   0     2       1\n",
              "4     57    0   0       120   354    0  ...      1      0.6      2   0     2       1\n",
              "..   ...  ...  ..       ...   ...  ...  ...    ...      ...    ...  ..   ...     ...\n",
              "298   57    0   0       140   241    0  ...      1      0.2      1   0     3       0\n",
              "299   45    1   3       110   264    0  ...      0      1.2      1   0     3       0\n",
              "300   68    1   0       144   193    1  ...      0      3.4      1   2     3       0\n",
              "301   57    1   0       130   131    0  ...      1      1.2      1   1     3       0\n",
              "302   57    0   1       130   236    0  ...      0      0.0      1   1     2       0\n",
              "\n",
              "[303 rows x 14 columns]"
            ]
          },
          "metadata": {
            "tags": []
          },
          "execution_count": 59
        }
      ]
    },
    {
      "cell_type": "markdown",
      "metadata": {
        "id": "5aEuxPS2QmLj"
      },
      "source": [
        "# **Displaying Count of the data**"
      ]
    },
    {
      "cell_type": "code",
      "metadata": {
        "colab": {
          "base_uri": "https://localhost:8080/"
        },
        "id": "UTZqQSZ_QpiU",
        "outputId": "1482d00a-60e6-4246-a8bc-62ce3d644e2b"
      },
      "source": [
        "cell_df.count()\n",
        "cell_df['target'].value_counts()"
      ],
      "execution_count": null,
      "outputs": [
        {
          "output_type": "execute_result",
          "data": {
            "text/plain": [
              "1    165\n",
              "0    138\n",
              "Name: target, dtype: int64"
            ]
          },
          "metadata": {
            "tags": []
          },
          "execution_count": 60
        }
      ]
    },
    {
      "cell_type": "markdown",
      "metadata": {
        "id": "sQrJXeoL4o9n"
      },
      "source": [
        "# **Visualization of Data**"
      ]
    },
    {
      "cell_type": "code",
      "metadata": {
        "colab": {
          "base_uri": "https://localhost:8080/",
          "height": 296
        },
        "id": "d2KnCC-p4tPO",
        "outputId": "1e509257-9707-49c5-8f76-df97219d9a7b"
      },
      "source": [
        "healthy_df=cell_df[cell_df['target']==1]\n",
        "unhealthy_df=cell_df[cell_df['target']==0]\n",
        "\n",
        "axes=healthy_df.plot(kind='scatter',x='chol',y='trestbps',color='blue',label='healthy')\n",
        "unhealthy_df.plot(kind='scatter',x='chol',y='trestbps',color='red',label='unhealthy',ax=axes)"
      ],
      "execution_count": null,
      "outputs": [
        {
          "output_type": "execute_result",
          "data": {
            "text/plain": [
              "<matplotlib.axes._subplots.AxesSubplot at 0x7fe3a460dc50>"
            ]
          },
          "metadata": {
            "tags": []
          },
          "execution_count": 61
        },
        {
          "output_type": "display_data",
          "data": {
            "image/png": "[encoded data removed]",
            "text/plain": [
              "<Figure size 432x288 with 1 Axes>"
            ]
          },
          "metadata": {
            "tags": [],
            "needs_background": "light"
          }
        }
      ]
    },
    {
      "cell_type": "markdown",
      "metadata": {
        "id": "XGGxJH5X7CQG"
      },
      "source": [
        "# **Selection of Columns**"
      ]
    },
    {
      "cell_type": "code",
      "metadata": {
        "id": "hg6yYQvR7HKn"
      },
      "source": [
        "cell_df.columns\n",
        "features=cell_df[['age', 'sex', 'cp', 'trestbps', 'chol', 'fbs', 'restecg',\n",
        "                  'thalach','exang', 'oldpeak', 'slope', 'ca', 'thal']]                \n",
        "\n",
        "X=np.asarray(features)\n",
        "y=np.asarray(cell_df['target'])        "
      ],
      "execution_count": null,
      "outputs": []
    },
    {
      "cell_type": "markdown",
      "metadata": {
        "id": "gz3_Wzwl8VPZ"
      },
      "source": [
        "# **Splitting the data**"
      ]
    },
    {
      "cell_type": "code",
      "metadata": {
        "colab": {
          "base_uri": "https://localhost:8080/"
        },
        "id": "r_EijeiR8Zcs",
        "outputId": "8f3b6607-d8ab-496b-a39e-a848ac3a0479"
      },
      "source": [
        "Train_X,Test_X,Train_y,Test_y=train_test_split(X,y,test_size=0.2,random_state=3)\n",
        "\n",
        "print('\\nTrain_X = ',Train_X.shape)\n",
        "print('\\nTrain_y = ',Train_y.shape)\n",
        "print('\\nTest_X = ',Test_X.shape)\n",
        "print('\\nTest_y = ',Test_y.shape)\n",
        "print(Train_X[0:5])"
      ],
      "execution_count": null,
      "outputs": [
        {
          "output_type": "stream",
          "text": [
            "\n",
            "Train_X =  (242, 13)\n",
            "\n",
            "Train_y =  (242,)\n",
            "\n",
            "Test_X =  (61, 13)\n",
            "\n",
            "Test_y =  (61,)\n",
            "[[5.60e+01 0.00e+00 1.00e+00 1.40e+02 2.94e+02 0.00e+00 0.00e+00 1.53e+02\n",
            "  0.00e+00 1.30e+00 1.00e+00 0.00e+00 2.00e+00]\n",
            " [4.70e+01 1.00e+00 0.00e+00 1.10e+02 2.75e+02 0.00e+00 0.00e+00 1.18e+02\n",
            "  1.00e+00 1.00e+00 1.00e+00 1.00e+00 2.00e+00]\n",
            " [5.90e+01 1.00e+00 3.00e+00 1.60e+02 2.73e+02 0.00e+00 0.00e+00 1.25e+02\n",
            "  0.00e+00 0.00e+00 2.00e+00 0.00e+00 2.00e+00]\n",
            " [4.30e+01 0.00e+00 2.00e+00 1.22e+02 2.13e+02 0.00e+00 1.00e+00 1.65e+02\n",
            "  0.00e+00 2.00e-01 1.00e+00 0.00e+00 2.00e+00]\n",
            " [5.70e+01 1.00e+00 0.00e+00 1.65e+02 2.89e+02 1.00e+00 0.00e+00 1.24e+02\n",
            "  0.00e+00 1.00e+00 1.00e+00 3.00e+00 3.00e+00]]\n"
          ],
          "name": "stdout"
        }
      ]
    },
    {
      "cell_type": "markdown",
      "metadata": {
        "id": "UxHRTpTO9LUJ"
      },
      "source": [
        "# **Model Preparation and Results**"
      ]
    },
    {
      "cell_type": "code",
      "metadata": {
        "colab": {
          "base_uri": "https://localhost:8080/"
        },
        "id": "pD9oDOhV9Nyb",
        "outputId": "4687467b-f260-46da-e28b-5fe78d6ba6d7"
      },
      "source": [
        "classifier=svm.SVC(C=2.0,kernel='linear',gamma='auto')\n",
        "classifier.fit(Train_X,Train_y)\n",
        "pred=classifier.predict(Test_X)\n",
        "print('***Classification Report***:\\n',classification_report(Test_y,pred))\n",
        "print('***SVM Accuracy Score***:',accuracy_score(Test_y,pred)*100,'%')"
      ],
      "execution_count": null,
      "outputs": [
        {
          "output_type": "stream",
          "text": [
            "***Classification Report***:\n",
            "               precision    recall  f1-score   support\n",
            "\n",
            "           0       0.89      0.81      0.85        21\n",
            "           1       0.90      0.95      0.93        40\n",
            "\n",
            "    accuracy                           0.90        61\n",
            "   macro avg       0.90      0.88      0.89        61\n",
            "weighted avg       0.90      0.90      0.90        61\n",
            "\n",
            "***SVM Accuracy Score***: 90.1639344262295 %\n"
          ],
          "name": "stdout"
        }
      ]
    },
    {
      "cell_type": "markdown",
      "metadata": {
        "id": "jl-C0ZrGHMyH"
      },
      "source": [
        "# **Predict heart attack (User Input)**"
      ]
    },
    {
      "cell_type": "code",
      "metadata": {
        "id": "_vitzJIKHUTk",
        "colab": {
          "base_uri": "https://localhost:8080/"
        },
        "outputId": "eb37076c-af72-4300-b03b-4a241452d127"
      },
      "source": [
        "age=input('\\nEnter age in years:')\n",
        "sex=input('\\nEnter sex[0 or 1] 0-female 1-male:')\n",
        "cp=input('\\nEnter Chest pain type [0 or 1 or 2 or 3]:')\n",
        "trestbps=input('\\nEnter resting blood pressure (mmHg):')\n",
        "chol=input('\\nEnter Cholestoral (mg/dl):')\n",
        "fbs=input('\\nEnter fasting blood sugar >120 mg/dl [1-true 0-false]:')\n",
        "restecg=input('\\nEnter resting electrocardiographic results [0 or 1 or 2]:')\n",
        "thalach=input('\\nEnter maximum heart rate achieved:')\n",
        "exang=input('\\nEnter exercise induced agina [1-yes 0-no]:')\n",
        "oldpeak=input('\\nST depression induced by exercise relative to rest [0 to 6.2]:')\n",
        "slope=input('\\nEnter the slope of the peak exercise ST segment [0 or 1 or 2]:')\n",
        "ca=input('\\nEnter number of major vessels colored by flourosopy[0 or 1 or 2 or 3 or 4]:')\n",
        "thal=input('\\nEnter thal [3-normal 6-fixed defect 7-reversible defect]:')\n",
        "dataList=np.array([age,sex,cp,trestbps,chol,fbs,restecg,thalach,exang,oldpeak,slope,ca,thal])\n",
        "result=classifier.predict(dataList.reshape(1,-1))\n",
        "if result[0] == 1:\n",
        "  print('\\nResult --> Congratulations, there are negligible chances of heart attack!')\n",
        "else:\n",
        "  print('\\nResult --> Kindly Consult your doctor, as your health seems unwell.')\n"
      ],
      "execution_count": null,
      "outputs": [
        {
          "output_type": "stream",
          "text": [
            "\n",
            "Enter age in years:40\n",
            "\n",
            "Enter sex[0 or 1] 0-female 1-male:1\n",
            "\n",
            "Enter Chest pain type [0 or 1 or 2 or 3]:0\n",
            "\n",
            "Enter resting blood pressure (mmHg):110\n",
            "\n",
            "Enter Cholestoral (mg/dl):167\n",
            "\n",
            "Enter fasting blood sugar >120 mg/dl [1-true 0-false]:0\n",
            "\n",
            "Enter resting electrocardiographic results [0 or 1 or 2]:0\n",
            "\n",
            "Enter maximum heart rate achieved:114\n",
            "\n",
            "Enter exercise induced agina [1-yes 0-no]:1\n",
            "\n",
            "ST depression induced by exercise relative to rest [0 to 6.2]:2\n",
            "\n",
            "Enter the slope of the peak exercise ST segment [0 or 1 or 2]:1\n",
            "\n",
            "Enter number of major vessels colored by flourosopy[0 or 1 or 2 or 3 or 4]:0\n",
            "\n",
            "Enter thal [3-normal 6-fixed defect 7-reversible defect]:3\n",
            "\n",
            "Result --> Kindly Consult your doctor, as your health seems unwell.\n"
          ],
          "name": "stdout"
        }
      ]
    }
  ]
}